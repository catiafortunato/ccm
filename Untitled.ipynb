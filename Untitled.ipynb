{
 "cells": [
  {
   "cell_type": "code",
   "execution_count": 3,
   "metadata": {},
   "outputs": [],
   "source": [
    "import csv\n",
    "import numpy as np"
   ]
  },
  {
   "cell_type": "code",
   "execution_count": 28,
   "metadata": {},
   "outputs": [],
   "source": [
    "# Parameters\n",
    "T=4000 #sequence size\n",
    "sigma=10\n",
    "beta=8/3\n",
    "rho=28\n",
    "dt=0.01\n",
    "\n",
    "x=np.zeros((T+1))\n",
    "y=np.zeros((T+1))\n",
    "z=np.zeros((T+1))\n",
    "x[0]=0.2*(np.random.rand()-0.5)\n",
    "y[0]=0.2*(np.random.rand()-0.5)\n",
    "z[0]=0.2*(np.random.rand()-0.5)\n",
    "\n",
    "for i in range(T):\n",
    "    x[i+1]=x[i]+dt*sigma*(y[i]-x[i])\n",
    "    y[i+1]=y[i]+dt*(x[i]*(rho-z[i])-y[i])\n",
    "    z[i+1]=z[i]+dt*(x[i]*y[i]-beta*z[i])\n",
    "\n",
    "x=np.transpose(x)\n",
    "y=np.transpose(y)\n",
    "z=np.transpose(z)"
   ]
  },
  {
   "cell_type": "code",
   "execution_count": 23,
   "metadata": {},
   "outputs": [
    {
     "ename": "TypeError",
     "evalue": "writeheader() takes exactly 1 argument (2 given)",
     "output_type": "error",
     "traceback": [
      "\u001b[0;31m---------------------------------------------------------------------------\u001b[0m",
      "\u001b[0;31mTypeError\u001b[0m                                 Traceback (most recent call last)",
      "\u001b[0;32m<ipython-input-23-de8194258d05>\u001b[0m in \u001b[0;36m<module>\u001b[0;34m()\u001b[0m\n\u001b[1;32m      4\u001b[0m     \u001b[0mfieldnames\u001b[0m\u001b[0;34m=\u001b[0m\u001b[0;34m[\u001b[0m\u001b[0;34m'x'\u001b[0m\u001b[0;34m,\u001b[0m\u001b[0;34m'y'\u001b[0m\u001b[0;34m]\u001b[0m\u001b[0;34m\u001b[0m\u001b[0m\n\u001b[1;32m      5\u001b[0m     \u001b[0;31m#writer=csv.DictWriter(csvfile,fieldnames=fieldnames, dialect='myDialect')\u001b[0m\u001b[0;34m\u001b[0m\u001b[0;34m\u001b[0m\u001b[0m\n\u001b[0;32m----> 6\u001b[0;31m     \u001b[0mwriter\u001b[0m\u001b[0;34m.\u001b[0m\u001b[0mwriteheader\u001b[0m\u001b[0;34m(\u001b[0m\u001b[0;34m\"A,B\"\u001b[0m\u001b[0;34m)\u001b[0m\u001b[0;34m\u001b[0m\u001b[0m\n\u001b[0m\u001b[1;32m      7\u001b[0m     \u001b[0;31m#for i in range(len(x)):\u001b[0m\u001b[0;34m\u001b[0m\u001b[0;34m\u001b[0m\u001b[0m\n\u001b[1;32m      8\u001b[0m     \u001b[0mwriter\u001b[0m\u001b[0;34m.\u001b[0m\u001b[0mwriterow\u001b[0m\u001b[0;34m(\u001b[0m\u001b[0mzip\u001b[0m\u001b[0;34m(\u001b[0m\u001b[0mx\u001b[0m\u001b[0;34m,\u001b[0m\u001b[0my\u001b[0m\u001b[0;34m)\u001b[0m\u001b[0;34m)\u001b[0m\u001b[0;34m\u001b[0m\u001b[0m\n",
      "\u001b[0;31mTypeError\u001b[0m: writeheader() takes exactly 1 argument (2 given)"
     ]
    }
   ],
   "source": [
    "csv.register_dialect('myDialect',delimiter=',',quoting=csv.QUOTE_ALL)\n",
    "\n",
    "with open('names.csv','w') as csvfile:\n",
    "    fieldnames=['x','y']\n",
    "    #writer=csv.DictWriter(csvfile,fieldnames=fieldnames, dialect='myDialect')\n",
    "    writer.writeheader(\"A,B\")\n",
    "    #for i in range(len(x)):\n",
    "    writer.writerow(zip(x,y))"
   ]
  },
  {
   "cell_type": "code",
   "execution_count": 25,
   "metadata": {},
   "outputs": [],
   "source": [
    "np.savetxt(\"foo.csv\",zip(x,y),delimiter=\",\",header=\"A,B\", comments=\"\")"
   ]
  },
  {
   "cell_type": "code",
   "execution_count": 31,
   "metadata": {},
   "outputs": [],
   "source": [
    "np.savetxt(\"lorenz_yz.csv\",zip(y,z),delimiter=\",\",header=\"y,z\", comments=\"\")"
   ]
  },
  {
   "cell_type": "code",
   "execution_count": 32,
   "metadata": {},
   "outputs": [],
   "source": [
    "np.savetxt(\"lorenz_xz.csv\",zip(x,z),delimiter=\",\",header=\"x,z\", comments=\"\")"
   ]
  },
  {
   "cell_type": "code",
   "execution_count": 41,
   "metadata": {},
   "outputs": [],
   "source": [
    "# Parameters\n",
    "T=8000\n",
    "E=3\n",
    "tau=1\n",
    "rx=3.8\n",
    "ry=3.5\n",
    "betaxy=0.02 # how much y influences x\n",
    "betayx=0.1 # how much x influences y \n",
    "x=np.zeros((T))\n",
    "y=np.zeros((T))\n",
    "x[0]=0.4\n",
    "y[0]=0.2\n",
    "\n",
    "for i in range(T-1):\n",
    "    x[i+1]=x[i]*(rx-rx*x[i]-betaxy*y[i])\n",
    "    y[i+1]=y[i]*(ry-ry*y[i]-betayx*x[i])\n",
    "    \n",
    "x=np.transpose(x)\n",
    "y=np.transpose(y)\n"
   ]
  },
  {
   "cell_type": "code",
   "execution_count": 42,
   "metadata": {},
   "outputs": [],
   "source": [
    "np.savetxt(\"ephemeral.csv\",zip(x,y),delimiter=\",\",header=\"x,y\", comments=\"\")"
   ]
  },
  {
   "cell_type": "code",
   "execution_count": 44,
   "metadata": {},
   "outputs": [],
   "source": [
    "T=8000\n",
    "x=np.zeros((T+1))\n",
    "y=np.zeros((T+1))\n",
    "Rx=np.zeros((T+1))\n",
    "Ry=np.zeros((T+1))\n",
    "n=1\n",
    "\n",
    "x[0]=np.random.rand()\n",
    "y[0]=np.random.rand()\n",
    "\n",
    "for i in range(T):\n",
    "    Rx[i+1]=x[i]*(3.1*(1-x[i]))*np.exp(-0.3*n)\n",
    "    Ry[i+1]=y[i]*(2.9*(1-y[i]))*np.exp(-0.36*n)\n",
    "    if i < 3:\n",
    "        x[i+1]=0.4*x[i]\n",
    "        y[i+1]=0.35*y[i]\n",
    "    else:\n",
    "        x[i+1]=0.4*x[i]+np.max(Rx[i-3],0)\n",
    "        y[i+1]=0.35*y[i]+np.max(Ry[i-3],0)"
   ]
  },
  {
   "cell_type": "code",
   "execution_count": 45,
   "metadata": {},
   "outputs": [],
   "source": [
    "np.savetxt(\"external.csv\",zip(x,y),delimiter=\",\",header=\"x,y\", comments=\"\")"
   ]
  },
  {
   "cell_type": "code",
   "execution_count": null,
   "metadata": {},
   "outputs": [],
   "source": []
  }
 ],
 "metadata": {
  "kernelspec": {
   "display_name": "Python 2",
   "language": "python",
   "name": "python2"
  },
  "language_info": {
   "codemirror_mode": {
    "name": "ipython",
    "version": 2
   },
   "file_extension": ".py",
   "mimetype": "text/x-python",
   "name": "python",
   "nbconvert_exporter": "python",
   "pygments_lexer": "ipython2",
   "version": "2.7.15"
  }
 },
 "nbformat": 4,
 "nbformat_minor": 2
}
