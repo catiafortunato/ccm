{
 "cells": [
  {
   "cell_type": "code",
   "execution_count": 49,
   "metadata": {},
   "outputs": [],
   "source": [
    "import csv\n",
    "import numpy as np\n",
    "import matplotlib.pyplot as plt\n",
    "from mpl_toolkits.mplot3d import Axes3D"
   ]
  },
  {
   "cell_type": "code",
   "execution_count": 73,
   "metadata": {},
   "outputs": [],
   "source": [
    "# Parameters\n",
    "T=4000 #sequence size\n",
    "sigma=10\n",
    "beta=8/3\n",
    "rho=28\n",
    "dt=0.01\n",
    "\n",
    "x=np.zeros((T+1))\n",
    "y=np.zeros((T+1))\n",
    "z=np.zeros((T+1))\n",
    "x[0]=0.2*(np.random.rand()-0.5)\n",
    "y[0]=0.2*(np.random.rand()-0.5)\n",
    "z[0]=0.2*(np.random.rand()-0.5)\n",
    "\n",
    "for i in range(T):\n",
    "    x[i+1]=x[i]+dt*sigma*(y[i]-x[i])\n",
    "    y[i+1]=y[i]+dt*(x[i]*(rho-z[i])-y[i])\n",
    "    z[i+1]=z[i]+dt*(x[i]*y[i]-beta*z[i])\n",
    "\n",
    "x=np.transpose(x)\n",
    "y=np.transpose(y)\n",
    "z=np.transpose(z)"
   ]
  },
  {
   "cell_type": "code",
   "execution_count": 74,
   "metadata": {},
   "outputs": [],
   "source": [
    "np.savetxt(\"foo.csv\",zip(x,y),delimiter=\",\",header=\"A,B\", comments=\"\")"
   ]
  },
  {
   "cell_type": "code",
   "execution_count": 75,
   "metadata": {},
   "outputs": [],
   "source": [
    "np.savetxt(\"lorenz_yz.csv\",zip(y,z),delimiter=\",\",header=\"y,z\", comments=\"\")"
   ]
  },
  {
   "cell_type": "code",
   "execution_count": 76,
   "metadata": {},
   "outputs": [],
   "source": [
    "np.savetxt(\"lorenz_xz.csv\",zip(x,z),delimiter=\",\",header=\"x,z\", comments=\"\")"
   ]
  },
  {
   "cell_type": "markdown",
   "metadata": {},
   "source": [
    "## Ephemeral regimes in a coupled dynamic system"
   ]
  },
  {
   "cell_type": "code",
   "execution_count": 41,
   "metadata": {},
   "outputs": [],
   "source": [
    "# Parameters\n",
    "T=8000\n",
    "E=3\n",
    "tau=1\n",
    "rx=3.8\n",
    "ry=3.5\n",
    "betaxy=0.02 # how much y influences x\n",
    "betayx=0.1 # how much x influences y \n",
    "x=np.zeros((T))\n",
    "y=np.zeros((T))\n",
    "x[0]=0.4\n",
    "y[0]=0.2\n",
    "\n",
    "for i in range(T-1):\n",
    "    x[i+1]=x[i]*(rx-rx*x[i]-betaxy*y[i])\n",
    "    y[i+1]=y[i]*(ry-ry*y[i]-betayx*x[i])\n",
    "    \n",
    "x=np.transpose(x)\n",
    "y=np.transpose(y)\n"
   ]
  },
  {
   "cell_type": "code",
   "execution_count": 42,
   "metadata": {},
   "outputs": [],
   "source": [
    "np.savetxt(\"ephemeral.csv\",zip(x,y),delimiter=\",\",header=\"x,y\", comments=\"\")"
   ]
  },
  {
   "cell_type": "markdown",
   "metadata": {},
   "source": [
    "## External forcing of non-coupled variables"
   ]
  },
  {
   "cell_type": "code",
   "execution_count": 71,
   "metadata": {},
   "outputs": [
    {
     "data": {
      "text/plain": [
       "<matplotlib.legend.Legend at 0x7f19d6c26390>"
      ]
     },
     "execution_count": 71,
     "metadata": {},
     "output_type": "execute_result"
    },
    {
     "data": {
      "image/png": "[encoded data removed]",
      "text/plain": [
       "<Figure size 432x288 with 1 Axes>"
      ]
     },
     "metadata": {
      "needs_background": "light"
     },
     "output_type": "display_data"
    }
   ],
   "source": [
    "T=4000\n",
    "x=np.zeros((T+1))\n",
    "y=np.zeros((T+1))\n",
    "Rx=np.zeros((T+1))\n",
    "Ry=np.zeros((T+1))\n",
    "n=0.9\n",
    "\n",
    "x[0]=np.random.rand()\n",
    "y[0]=np.random.rand()\n",
    "\n",
    "for i in range(T):\n",
    "    Rx[i+1]=x[i]*(3.1*(1-x[i]))*np.exp(-0.3*n)\n",
    "    Ry[i+1]=y[i]*(2.9*(1-y[i]))*np.exp(-0.36*n)\n",
    "    if i < 3:\n",
    "        x[i+1]=0.4*x[i]\n",
    "        y[i+1]=0.35*y[i]\n",
    "    else:\n",
    "        x[i+1]=0.4*x[i]+np.max(Rx[i-3],0)\n",
    "        y[i+1]=0.35*y[i]+np.max(Ry[i-3],0)\n",
    "\n",
    "x=np.transpose(x)\n",
    "y=np.transpose(y)\n",
    "\n",
    "fig=plt.figure()\n",
    "ax=fig.add_subplot(111)\n",
    "ax.plot(x)\n",
    "ax.plot(y)\n",
    "plt.legend(('x','y','Rx','Ry'))"
   ]
  },
  {
   "cell_type": "code",
   "execution_count": 72,
   "metadata": {},
   "outputs": [],
   "source": [
    "np.savetxt(\"external.csv\",zip(x,y),delimiter=\",\",header=\"x,y\", comments=\"\")"
   ]
  },
  {
   "cell_type": "code",
   "execution_count": null,
   "metadata": {},
   "outputs": [],
   "source": []
  }
 ],
 "metadata": {
  "kernelspec": {
   "display_name": "Python 2",
   "language": "python",
   "name": "python2"
  },
  "language_info": {
   "codemirror_mode": {
    "name": "ipython",
    "version": 2
   },
   "file_extension": ".py",
   "mimetype": "text/x-python",
   "name": "python",
   "nbconvert_exporter": "python",
   "pygments_lexer": "ipython2",
   "version": "2.7.15"
  }
 },
 "nbformat": 4,
 "nbformat_minor": 2
}
