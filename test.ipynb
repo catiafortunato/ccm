{
 "cells": [
  {
   "cell_type": "code",
   "execution_count": 3,
   "metadata": {},
   "outputs": [],
   "source": [
    "import numpy as np\n",
    "import matplotlib.pyplot as plt\n",
    "from mpl_toolkits.mplot3d import Axes3D\n",
    "import sklearn\n",
    "from sklearn.neighbors import NearestNeighbors\n",
    "import bigfloat\n",
    "from decimal import *\n",
    "import methods\n"
   ]
  },
  {
   "cell_type": "markdown",
   "metadata": {},
   "source": [
    "# Lorentz equations"
   ]
  },
  {
   "cell_type": "code",
   "execution_count": 8,
   "metadata": {},
   "outputs": [
    {
     "data": {
      "text/plain": [
       "[<mpl_toolkits.mplot3d.art3d.Line3D at 0x7f82ed7a7690>]"
      ]
     },
     "execution_count": 8,
     "metadata": {},
     "output_type": "execute_result"
    }
   ],
   "source": [
    "# Parameters\n",
    "T=4000 #sequence size\n",
    "sigma=10\n",
    "beta=8/3\n",
    "rho=28\n",
    "dt=0.01\n",
    "\n",
    "x=np.zeros((T+1))\n",
    "y=np.zeros((T+1))\n",
    "z=np.zeros((T+1))\n",
    "x[0]=0.2*(np.random.rand()-0.5)\n",
    "y[0]=0.2*(np.random.rand()-0.5)\n",
    "z[0]=0.2*(np.random.rand()-0.5)\n",
    "\n",
    "for i in range(T):\n",
    "    x[i+1]=x[i]+dt*sigma*(y[i]-x[i])\n",
    "    y[i+1]=y[i]+dt*(x[i]*(rho-z[i])-y[i])\n",
    "    z[i+1]=z[i]+dt*(x[i]*y[i]-beta*z[i])\n",
    "\n",
    "fig=plt.figure()\n",
    "ax=fig.add_subplot(111)\n",
    "ax.plot(x)\n",
    "ax.plot(y)\n",
    "ax.plot(z)\n",
    "\n",
    "%matplotlib qt\n",
    "fig2=plt.figure()\n",
    "ax2=fig2.add_subplot(111,projection='3d')\n",
    "ax2.plot(x,y,z)"
   ]
  },
  {
   "cell_type": "code",
   "execution_count": 5,
   "metadata": {},
   "outputs": [],
   "source": [
    "def example(X,Y,T,tau,E,L,emsemble):\n",
    "    rhox=np.zeros((len(L),emsemble))\n",
    "    rhoy=np.zeros((len(L),emsemble))\n",
    "    for i in range(len(L)):\n",
    "        for j in range (emsemble):\n",
    "            y_pred, y_target, x_pred, x_target = methods.compute_xmap(X,Y,T,E,tau,L[i])\n",
    "            rhox[i,j]=methods.compute_corr(y_pred,y_target)\n",
    "            rhoy[i,j]=methods.compute_corr(x_pred,x_target)\n",
    "    rhox=np.mean(rhox,1)\n",
    "    rhoy=np.mean(rhoy,1)\n",
    "    return rhox,rhoy,L"
   ]
  },
  {
   "cell_type": "code",
   "execution_count": 12,
   "metadata": {},
   "outputs": [],
   "source": [
    "E=3\n",
    "tau=1\n",
    "T=4000\n",
    "L=[5, 10, 20, 30, 40, 50, 60, 70, 80, 90, 100,110,120,130,140, 150]\n",
    "emsemble=50\n",
    "\n",
    "rhox, rhoy, L=example(x,y,T,tau,E,L,emsemble)\n"
   ]
  },
  {
   "cell_type": "code",
   "execution_count": 13,
   "metadata": {},
   "outputs": [
    {
     "data": {
      "text/plain": [
       "[<matplotlib.lines.Line2D at 0x7f0e1f624410>]"
      ]
     },
     "execution_count": 13,
     "metadata": {},
     "output_type": "execute_result"
    },
    {
     "data": {
      "image/png": "[encoded data removed]",
      "text/plain": [
       "<Figure size 432x288 with 1 Axes>"
      ]
     },
     "metadata": {
      "needs_background": "light"
     },
     "output_type": "display_data"
    }
   ],
   "source": [
    "fig2=plt.figure()\n",
    "ax2=fig2.add_subplot(111)\n",
    "ax2.plot(L,rhox)\n",
    "ax2.plot(L,rhoy)"
   ]
  },
  {
   "cell_type": "code",
   "execution_count": null,
   "metadata": {},
   "outputs": [],
   "source": []
  }
 ],
 "metadata": {
  "kernelspec": {
   "display_name": "Python 2",
   "language": "python",
   "name": "python2"
  },
  "language_info": {
   "codemirror_mode": {
    "name": "ipython",
    "version": 2
   },
   "file_extension": ".py",
   "mimetype": "text/x-python",
   "name": "python",
   "nbconvert_exporter": "python",
   "pygments_lexer": "ipython2",
   "version": "2.7.15"
  }
 },
 "nbformat": 4,
 "nbformat_minor": 2
}
